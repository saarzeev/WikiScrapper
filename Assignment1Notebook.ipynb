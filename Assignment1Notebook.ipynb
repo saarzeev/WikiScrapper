{
 "cells": [
  {
   "cell_type": "markdown",
   "metadata": {},
   "source": [
    "# Assignment 1"
   ]
  },
  {
   "cell_type": "markdown",
   "metadata": {},
   "source": [
    "## Question 1:"
   ]
  },
  {
   "cell_type": "markdown",
   "metadata": {},
   "source": [
    "import and query webpage"
   ]
  },
  {
   "cell_type": "code",
   "execution_count": null,
   "metadata": {},
   "outputs": [],
   "source": [
    "#import the library used to query a website, query the website and return the html\n",
    "from urllib.request import urlopen\n",
    "\n",
    "!pip3 install bs4\n",
    "\n",
    "from bs4 import BeautifulSoup\n",
    "\n",
    "wiki_prefix = \"https://en.wikipedia.org/\"\n",
    "wiki = \"https://en.wikipedia.org/wiki/Julia_Roberts_filmography\"\n",
    "page = urlopen(wiki)\n",
    "\n",
    "soup = BeautifulSoup(page, features=\"html.parser\")\n",
    "\n",
    "jr_movies_table = soup.find_all(\"table\")[0]"
   ]
  },
  {
   "cell_type": "code",
   "execution_count": null,
   "metadata": {},
   "outputs": [],
   "source": [
    "#Build df\n",
    "A = []\n",
    "B = []\n",
    "C = []\n",
    "D = []\n",
    "movies_links = []\n",
    "\n",
    "#Iterate through the table, and extract information\n",
    "for row in jr_movies_table.findAll(\"tr\"):\n",
    "    cells = row.findAll('td')\n",
    "    movies = row.findAll('th') #To store second column data\n",
    "    if len(cells) == 5: #Only extract table body not heading\n",
    "\n",
    "        A.append(movies[0].find(text=True))\n",
    "        B.append(int(cells[0].find(text=True)))\n",
    "        C.append(cells[1].find(text=True))\n",
    "        D.append(cells[2].find(text=True))\n",
    "\n",
    "        #Store links for use later on, in Question 2.\n",
    "        link = movies[0].a\n",
    "        if not link:\n",
    "            movies_links.append(\"\")\n",
    "        for link in movies[0].findAll('a'):\n",
    "            movies_links.append(wiki_prefix + link.get('href'))"
   ]
  },
  {
   "cell_type": "code",
   "execution_count": null,
   "metadata": {},
   "outputs": [],
   "source": [
    "#import pandas to convert list to data frame\n",
    "import pandas as pd\n",
    "\n",
    "df = pd.DataFrame(A,columns=['Title'])\n",
    "df['Year'] = B\n",
    "df['Role'] = C\n",
    "df['Director'] = D\n",
    "df['Links'] = movies_links\n",
    "\n",
    "df.sort_values(\"Year\")\n",
    "\n",
    "question_1 = df.copy().drop(\"Links\", axis=1)"
   ]
  },
  {
   "cell_type": "code",
   "execution_count": null,
   "metadata": {},
   "outputs": [],
   "source": [
    "question_1"
   ]
  },
  {
   "cell_type": "markdown",
   "metadata": {},
   "source": [
    "## Question 2"
   ]
  },
  {
   "cell_type": "code",
   "execution_count": null,
   "metadata": {},
   "outputs": [],
   "source": [
    "import re"
   ]
  },
  {
   "cell_type": "markdown",
   "metadata": {},
   "source": [
    "Find all actors, and save their links"
   ]
  },
  {
   "cell_type": "code",
   "execution_count": null,
   "metadata": {},
   "outputs": [],
   "source": [
    "actors_list = []\n",
    "link_list = []\n",
    "\n",
    "for movie_link in df[\"Links\"]:\n",
    "    if movie_link == \"\":\n",
    "        continue\n",
    "    page = urlopen(movie_link)\n",
    "    soup = BeautifulSoup(page, features=\"html.parser\")\n",
    "    html = list(soup.children)[2]\n",
    "    body = list(html.children)[3]\n",
    "\n",
    "    span = soup.findAll(\"span\", id=re.compile(\"(^Cast$)|(\\scast$)\"))\n",
    "    if not span:\n",
    "        continue\n",
    "\n",
    "    try:\n",
    "        p = span[0].parent\n",
    "        entire_list = list(p.findNext('ul').findAll(\"li\"))\n",
    "        for entry in entire_list:\n",
    "            if entry.find('a'):\n",
    "                name = entry.find('a').get_text()\n",
    "                if not name == \"Julia Roberts\":\n",
    "                    actors_list.append(name)\n",
    "                    link_list.append(wiki_prefix + entry.find('a').get('href'))\n",
    "\n",
    "            elif entry.get_text() != \"\":\n",
    "                name = entry.get_text()\n",
    "                if name.find(' as ') > -1:\n",
    "                    name = name[:name.find(' as ')]\n",
    "                if not name == \"Julia Roberts\":\n",
    "                    actors_list.append(name)\n",
    "                    link_list.append(\"\")\n",
    "    except:\n",
    "        None\n",
    "\n",
    "\n",
    "actorsdf = pd.DataFrame(actors_list, columns=['Name'])\n",
    "actorsdf['Link'] = link_list\n",
    "duplicated = actorsdf.groupby('Name').size().reset_index(name='Num of occurrences')\n",
    "actorsdf.drop_duplicates(['Name'], keep=\"last\",inplace=True)\n",
    "actorsdf.sort_values(\"Name\")"
   ]
  },
  {
   "cell_type": "markdown",
   "metadata": {},
   "source": [
    "The following is a function we will use to extract awards. For a given actor, it opens the relevant link, finds al the tables in that link, and counts how many awards has this actprs been awarded."
   ]
  },
  {
   "cell_type": "code",
   "execution_count": null,
   "metadata": {},
   "outputs": [],
   "source": [
    "def findAwardsFunc(name):\n",
    "    try:\n",
    "        ur = \"https://en.wikipedia.org/wiki/List_of_awards_and_nominations_received_by_\" + name.replace(' ', '_')\n",
    "        awardPage = urlopen(\"https://en.wikipedia.org/wiki/List_of_awards_and_nominations_received_by_\" + name.replace(' ', '_'))\n",
    "        awardSoup = BeautifulSoup(awardPage, features=\"html.parser\")\n",
    "        i = 0;\n",
    "        findAwards = awardSoup.findAll('table')\n",
    "        if not findAwards:\n",
    "            return -1\n",
    "        else:\n",
    "            return str(findAwards).count(\"Won\")\n",
    "    except:\n",
    "        return -1"
   ]
  },
  {
   "cell_type": "markdown",
   "metadata": {},
   "source": [
    "For each actor, scrape birth year, birth place nd number of awards"
   ]
  },
  {
   "cell_type": "code",
   "execution_count": null,
   "metadata": {},
   "outputs": [],
   "source": [
    "BD=[]\n",
    "BP=[]\n",
    "AW=[]\n",
    "\n",
    "tmpNames=actorsdf['Name']\n",
    "ind = 0\n",
    "for co_actor_link in actorsdf[\"Link\"]:\n",
    "    bd_len_before = len(BD)\n",
    "    bp_len_before = len(BP)\n",
    "    aw_len_before = len(AW)\n",
    "    ind = ind + 1\n",
    "    if co_actor_link == \"\":\n",
    "        BD.append(None)\n",
    "        BP.append(None)\n",
    "        AW.append(None)\n",
    "        continue\n",
    "\n",
    "    try:\n",
    "        coactorpage = urlopen(co_actor_link)\n",
    "        soup = BeautifulSoup(coactorpage, features=\"html.parser\")\n",
    "\n",
    "\n",
    "        findTable = soup.find('table', class_='infobox biography vcard')\n",
    "        if not findTable:\n",
    "            BD.append(None)\n",
    "            BP.append(None)\n",
    "            AW.append(None)\n",
    "            continue\n",
    "        born = findTable.find('span',class_='bday')\n",
    "        if born:\n",
    "            bdate = (born.string).split(\"-\")\n",
    "            BD.append(bdate[0])\n",
    "        else:\n",
    "            BD.append(None)\n",
    "            \n",
    "        birthplacesoup = findTable.find('div',class_='birthplace')\n",
    "        if birthplacesoup:\n",
    "            birthplace = (birthplacesoup.get_text()).split(\",\")\n",
    "            BP.append(birthplace[len(birthplace)-1])\n",
    "        else:\n",
    "            BP.append(None)\n",
    "            \n",
    "        findAwards = soup.findAll(\"td\", style=\"background: #99FF99; color: black; vertical-align: middle; text-align: center;\")\n",
    "        countAwards = 0\n",
    "        try:\n",
    "            if findAwards:\n",
    "                countAwards = str(findAwards).count(\"Won\")\n",
    "                countAwards = countAwards + str(findAwards).count(\"Honoured\")\n",
    "                countAwards = countAwards + str(findAwards).count(\"Honored\")\n",
    "                \n",
    "                if countAwards == 0:\n",
    "                    countAwards = findAwardsFunc(tmpNames[ind])\n",
    "            else:\n",
    "                countAwards = findAwardsFunc(tmpNames[ind])\n",
    "            if countAwards == -1:\n",
    "                AW.append(None)\n",
    "            else:\n",
    "                AW.append(countAwards)\n",
    "        except:\n",
    "            AW.append(0)\n",
    "    except:\n",
    "        None\n",
    "\n",
    "    if bd_len_before == len(BD):\n",
    "        BD.append(None)\n",
    "\n",
    "    if bp_len_before == len(BP):\n",
    "        BP.append(None)\n",
    "\n",
    "    if aw_len_before == len(AW):\n",
    "        AW.append(None)"
   ]
  },
  {
   "cell_type": "markdown",
   "metadata": {},
   "source": [
    "construct the data frame"
   ]
  },
  {
   "cell_type": "code",
   "execution_count": null,
   "metadata": {},
   "outputs": [],
   "source": [
    "actorsdf['Birth year'] = BD\n",
    "actorsdf['Birth palce'] = BP\n",
    "actorsdf['Awards'] = AW"
   ]
  },
  {
   "cell_type": "code",
   "execution_count": null,
   "metadata": {},
   "outputs": [],
   "source": [
    "question_2 = actorsdf.copy().drop(\"Links\", axis=1)\n",
    "question_2"
   ]
  },
  {
   "cell_type": "markdown",
   "metadata": {},
   "source": [
    "## Question 3"
   ]
  },
  {
   "cell_type": "code",
   "execution_count": null,
   "metadata": {},
   "outputs": [],
   "source": [
    "import matplotlib.pyplot as plt\n",
    "\n",
    "dfHistogram = duplicated.groupby('Num of occurrences').size().reset_index(name ='count')\n",
    "dfHistogram.plot(x='Num of occurrences', y='count', kind='bar')\n",
    "plt.show()"
   ]
  },
  {
   "cell_type": "markdown",
   "metadata": {},
   "source": [
    "(Please find picture attached at plot.jpg)"
   ]
  },
  {
   "cell_type": "code",
   "execution_count": null,
   "metadata": {},
   "outputs": [],
   "source": []
  }
 ],
 "metadata": {
  "kernelspec": {
   "display_name": "Python 3",
   "language": "python",
   "name": "python3"
  },
  "language_info": {
   "codemirror_mode": {
    "name": "ipython",
    "version": 3
   },
   "file_extension": ".py",
   "mimetype": "text/x-python",
   "name": "python",
   "nbconvert_exporter": "python",
   "pygments_lexer": "ipython3",
   "version": "3.7.3"
  }
 },
 "nbformat": 4,
 "nbformat_minor": 2
}
